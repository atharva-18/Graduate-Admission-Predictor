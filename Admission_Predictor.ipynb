{
  "nbformat": 4,
  "nbformat_minor": 0,
  "metadata": {
    "colab": {
      "name": "Admission-Predictor.ipynb",
      "version": "0.3.2",
      "provenance": [],
      "collapsed_sections": []
    },
    "kernelspec": {
      "name": "python3",
      "display_name": "Python 3"
    }
  },
  "cells": [
    {
      "cell_type": "markdown",
      "metadata": {
        "id": "HeOnrAM797qF",
        "colab_type": "text"
      },
      "source": [
        "Import packages"
      ]
    },
    {
      "cell_type": "code",
      "metadata": {
        "id": "RkoNR0mkfiKA",
        "colab_type": "code",
        "colab": {}
      },
      "source": [
        "import numpy as np\n",
        "import pandas as pd\n",
        "import matplotlib.pyplot as plt\n",
        "import sklearn\n",
        "import sklearn.datasets\n",
        "import sklearn.linear_model\n",
        "from sklearn import preprocessing\n",
        "from sklearn import utils\n",
        "from sklearn.metrics import accuracy_score"
      ],
      "execution_count": 0,
      "outputs": []
    },
    {
      "cell_type": "code",
      "metadata": {
        "id": "40LjnYjWuKox",
        "colab_type": "code",
        "colab": {}
      },
      "source": [
        "from zipfile import ZipFile\n",
        "\n",
        "with ZipFile('graduate-admissions', 'r') as f:\n",
        "    f.extractall()\n",
        "    f.close()"
      ],
      "execution_count": 0,
      "outputs": []
    },
    {
      "cell_type": "markdown",
      "metadata": {
        "id": "uBI2k4to-SFA",
        "colab_type": "text"
      },
      "source": [
        "Load the dataset"
      ]
    },
    {
      "cell_type": "code",
      "metadata": {
        "id": "iePBBghWilte",
        "colab_type": "code",
        "colab": {}
      },
      "source": [
        "X = np.array(pd.read_csv('Admission_Predict_Ver1.1.csv', sep=',',header=0))"
      ],
      "execution_count": 0,
      "outputs": []
    },
    {
      "cell_type": "code",
      "metadata": {
        "id": "Y4VIXKbTqha4",
        "colab_type": "code",
        "colab": {}
      },
      "source": [
        "Y = X[:,[8]]\n",
        "X = X[:,1:8]"
      ],
      "execution_count": 0,
      "outputs": []
    },
    {
      "cell_type": "code",
      "metadata": {
        "id": "b2Xt1dUgjYUi",
        "colab_type": "code",
        "outputId": "bff261a0-bf81-496e-9d81-c52bad619523",
        "colab": {
          "base_uri": "https://localhost:8080/",
          "height": 34
        }
      },
      "source": [
        "print(\"Number of train examples: \", X.shape[0])"
      ],
      "execution_count": 142,
      "outputs": [
        {
          "output_type": "stream",
          "text": [
            "Number of train examples:  500\n"
          ],
          "name": "stdout"
        }
      ]
    },
    {
      "cell_type": "markdown",
      "metadata": {
        "id": "cYtT0iZh_fi0",
        "colab_type": "text"
      },
      "source": [
        "Define our linear model"
      ]
    },
    {
      "cell_type": "code",
      "metadata": {
        "id": "xlgLTzDykbUa",
        "colab_type": "code",
        "colab": {}
      },
      "source": [
        "clf = sklearn.linear_model.LinearRegression()"
      ],
      "execution_count": 0,
      "outputs": []
    },
    {
      "cell_type": "code",
      "metadata": {
        "id": "8GT6m055lA9X",
        "colab_type": "code",
        "outputId": "8533e9c1-451c-4952-e843-c447f219db41",
        "colab": {
          "base_uri": "https://localhost:8080/",
          "height": 54
        }
      },
      "source": [
        "clf.fit(X, Y)"
      ],
      "execution_count": 144,
      "outputs": [
        {
          "output_type": "execute_result",
          "data": {
            "text/plain": [
              "LinearRegression(copy_X=True, fit_intercept=True, n_jobs=None, normalize=False)"
            ]
          },
          "metadata": {
            "tags": []
          },
          "execution_count": 144
        }
      ]
    },
    {
      "cell_type": "code",
      "metadata": {
        "id": "-U-BsiJyrzGc",
        "colab_type": "code",
        "outputId": "efebbeb4-1857-44f0-e209-53dd4f910b1c",
        "colab": {
          "base_uri": "https://localhost:8080/",
          "height": 312
        }
      },
      "source": [
        "print(\"Enter your GRE score, TOEFL score, university rating, SOP rating(out of 5), LOR rating(out of 5), CGPA, and research(1 if yes else 0)\")\n",
        "G = int(input())\n",
        "t = int(input())\n",
        "uni = int(input())\n",
        "sop = float(input())\n",
        "lor = float(input())\n",
        "cgpa = float(input())\n",
        "re = int(input())\n",
        "data = np.array([[G, t, uni, sop, lor, cgpa, re],])\n",
        "chance = clf.predict(data)\n",
        "print(\"You have \"+str(round(chance[0][0]*100, 2))+\"% chance of getting admitted!\")"
      ],
      "execution_count": 150,
      "outputs": [
        {
          "output_type": "stream",
          "text": [
            "Enter your GRE score, TOEFL score, university rating, SOP rating(out of 5), LOR rating(out of 5), CGPA, and research(1 if yes else 0)\n",
            "330\n",
            "109\n",
            "5\n",
            "4\n",
            "4\n",
            "9.0\n",
            "1\n",
            "You have 83.36% chance of getting admitted!\n"
          ],
          "name": "stdout"
        }
      ]
    }
  ]
}